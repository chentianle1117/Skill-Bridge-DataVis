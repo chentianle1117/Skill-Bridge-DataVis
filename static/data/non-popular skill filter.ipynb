{
 "cells": [
  {
   "cell_type": "code",
   "execution_count": 10,
   "metadata": {},
   "outputs": [],
   "source": [
    "import json\n",
    "from collections import Counter\n"
   ]
  },
  {
   "cell_type": "markdown",
   "metadata": {},
   "source": [
    "### trial 1 --falied"
   ]
  },
  {
   "cell_type": "code",
   "execution_count": 8,
   "metadata": {},
   "outputs": [],
   "source": [
    "def filter_skills(input_file, output_file):\n",
    "    with open(input_file, 'r') as f:\n",
    "        data = json.load(f)\n",
    "    \n",
    "    filtered_skills = []\n",
    "    for skill in data['skills']:\n",
    "        # Remove 'preferred' connections\n",
    "        skill['connections'].pop('preferred', None)\n",
    "        \n",
    "        # Filter 'required' connections\n",
    "        required_connections = skill['connections'].get('required', [])\n",
    "        filtered_required = [req for req in required_connections if required_connections.count(req) >= 2]\n",
    "        if filtered_required:\n",
    "            skill['connections']['required'] = filtered_required\n",
    "        else:\n",
    "            skill['connections'].pop('required', None)\n",
    "        \n",
    "        # Add the skill to the filtered list if it has any 'required' connections left\n",
    "        if skill['connections']:\n",
    "            filtered_skills.append(skill)\n",
    "    \n",
    "    # Update the data with filtered skills\n",
    "    data['skills'] = filtered_skills\n",
    "    \n",
    "    with open(output_file, 'w') as f:\n",
    "        json.dump(data, f, indent=4)\n"
   ]
  },
  {
   "cell_type": "markdown",
   "metadata": {},
   "source": [
    "### trial 2 ---counter"
   ]
  },
  {
   "cell_type": "code",
   "execution_count": 22,
   "metadata": {},
   "outputs": [],
   "source": [
    "def extract_jobs_from_subcategories(input_file):\n",
    "    \"\"\"\n",
    "    Extract all jobs from the subcategories structure in the input file.\n",
    "    \"\"\"\n",
    "    with open(input_file, 'r') as f:\n",
    "        data = json.load(f)\n",
    "    \n",
    "    jobs = []\n",
    "    for subcategory in data.get('subcategories', []):\n",
    "        jobs.extend(subcategory.get('jobs', []))\n",
    "    \n",
    "    return jobs\n",
    "\n",
    "def count_skill_occurrences(jobs):\n",
    "    \"\"\"\n",
    "    Count the occurrences of each skill in all required_skills across jobs.\n",
    "    \"\"\"\n",
    "    skill_counter = Counter()\n",
    "    for job in jobs:\n",
    "        required_skills = job.get(\"required_skills\", {})\n",
    "        for category, skills in required_skills.items():\n",
    "            skill_counter.update(skills)\n",
    "    return skill_counter\n",
    "\n",
    "def filter_skills(input_file, output_file):\n",
    "    # Extract jobs data from subcategories\n",
    "    jobs = extract_jobs_from_subcategories(input_file)\n",
    "    \n",
    "    # Count skill occurrences\n",
    "    skill_counts = count_skill_occurrences(jobs)\n",
    "\n",
    "    # Load skills data from the input file\n",
    "    with open(input_file, 'r') as f:\n",
    "        data = json.load(f)\n",
    "    \n",
    "    # Filter skills based on occurrences\n",
    "    filtered_skills = []\n",
    "    for skill in data['skills']:\n",
    "        skill_name = skill['name']\n",
    "        occurrence_count = skill_counts.get(skill_name, 0)\n",
    "\n",
    "        # Remove 'preferred' connections\n",
    "        skill['connections'].pop('preferred', None)\n",
    "        \n",
    "        # Filter 'required' connections if the skill appears in at least 5 jobs\n",
    "        if occurrence_count >= 100:\n",
    "            filtered_skills.append(skill)\n",
    "    \n",
    "    # Update the skills data with the filtered skills\n",
    "    data['skills'] = filtered_skills\n",
    "    \n",
    "    # Save the filtered data to the output file\n",
    "    with open(output_file, 'w') as out_file:\n",
    "        json.dump(data, out_file, indent=4)\n",
    "    \n",
    "    print(f\"Filtered skills data saved to {output_file}\")"
   ]
  },
  {
   "cell_type": "code",
   "execution_count": 23,
   "metadata": {},
   "outputs": [
    {
     "name": "stdout",
     "output_type": "stream",
     "text": [
      "Filtered skills data saved to processed/filtered_nonpop_1129_100.json\n"
     ]
    }
   ],
   "source": [
    "input_file = \"processed/combined_skillsDash_1114.json\"\n",
    "\n",
    "output_file = \"processed/filtered_nonpop_1129_100.json\"\n",
    "filter_skills(input_file, output_file)\n",
    "\n"
   ]
  }
 ],
 "metadata": {
  "kernelspec": {
   "display_name": "Python 3",
   "language": "python",
   "name": "python3"
  },
  "language_info": {
   "codemirror_mode": {
    "name": "ipython",
    "version": 3
   },
   "file_extension": ".py",
   "mimetype": "text/x-python",
   "name": "python",
   "nbconvert_exporter": "python",
   "pygments_lexer": "ipython3",
   "version": "3.11.5"
  }
 },
 "nbformat": 4,
 "nbformat_minor": 2
}
